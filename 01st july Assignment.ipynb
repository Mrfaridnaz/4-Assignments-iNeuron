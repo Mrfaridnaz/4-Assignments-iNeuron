{
 "cells": [
  {
   "cell_type": "markdown",
   "id": "ef2d07a3",
   "metadata": {},
   "source": [
    "### 1. What is the primary goal of Object-Oriented Programming (OOP)?"
   ]
  },
  {
   "cell_type": "markdown",
   "id": "44e791cf",
   "metadata": {},
   "source": [
    "The primary goal of Object-Oriented Programming (OOP) is to improve the organization and structure of software by modeling it as a collection of interacting objects. Each object is an instance of a class, which encapsulates both data and the methods that operate on that data. This approach aims to:\n",
    "\n",
    "Encapsulation: Bundling data and methods that operate on the data into a single unit, or class, to protect the data and hide implementation details.\n",
    "Inheritance: Allowing new classes to inherit properties and methods from existing classes, promoting code reuse and establishing a hierarchical relationship between classes.\n",
    "Polymorphism: Enabling objects to be treated as instances of their parent class rather than their actual class, allowing for flexible and interchangeable object use.\n",
    "Abstraction: Simplifying complex systems by exposing only the necessary parts of an object while hiding its internal workings.\n",
    "These principles help in building modular, maintainable, and scalable software systems."
   ]
  },
  {
   "cell_type": "markdown",
   "id": "3f177983",
   "metadata": {},
   "source": [
    "### What is an object in Python?"
   ]
  },
  {
   "cell_type": "raw",
   "id": "aa346e7b",
   "metadata": {},
   "source": [
    "An object is a fundamental concept that represents a collection of data and methods. Everything in \n",
    "Python is an object, including numbers, strings, lists, functions, and even classes themselves.\n",
    "\n",
    "Here’s a quick breakdown:\n",
    "\n",
    "Data: Objects have attributes, which are pieces of data associated with the object. For example, \n",
    "    a string object might have a length attribute, while a list object might have items.\n",
    "\n",
    "Methods: Objects also have methods, which are functions associated with the object. For instance, \n",
    "    a string object might have methods like .lower() to convert the string to lowercase.\n",
    "\n",
    "Identity: Every object has a unique identity, which is usually an address in memory.\n",
    "\n",
    "Type: Each object belongs to a specific type or class, which defines what data the object holds and \n",
    "    what methods are available. For example, int, str, and list are different types of objects in \n",
    "    Python.\n",
    "\n",
    "Mutability: Some objects are mutable (their state can be changed after creation, like lists), while \n",
    "    others are immutable (their state cannot be changed, like tuples).\n",
    "\n",
    "Objects are created from classes, which are blueprints defining the structure and behavior of the \n",
    "objects. For instance, if you have a class Car, you can create multiple Car objects, each with its \n",
    "own attributes and methods."
   ]
  },
  {
   "cell_type": "markdown",
   "id": "cd8871af",
   "metadata": {},
   "source": [
    "### What is a class in Python?"
   ]
  },
  {
   "cell_type": "raw",
   "id": "d06b05e6",
   "metadata": {},
   "source": [
    "A class is a blueprint for creating objects. It defines a type of object by specifying the attributes (data) and methods (functions) that the objects of that class will have. Classes provide a way to bundle data and functionality together.\n",
    "\n",
    "Here’s a breakdown of the key components of a class:\n",
    "\n",
    "Attributes: These are variables that belong to the class. They hold data associated with the object. For example, in a Car class, attributes might include color, make, and model.\n",
    "\n",
    "Methods: These are functions defined inside a class that operate on the class’s attributes. Methods define the behaviors of the objects created from the class. For example, a Car class might have a method start_engine().\n",
    "\n",
    "Constructor (__init__ method): This special method is called when an object is instantiated (created) from the class. It initializes the object's attributes. For instance, the __init__ method of the Car class might set up the initial values for color, make, and model.\n",
    "\n",
    "Inheritance: Classes can inherit from other classes, allowing for hierarchical relationships. This means you can create a new class that is a modified version of an existing class. For example, if you have a base class Vehicle, you could create a derived class Car that inherits from Vehicle."
   ]
  },
  {
   "cell_type": "code",
   "execution_count": 183,
   "id": "736eaff8",
   "metadata": {},
   "outputs": [
    {
     "name": "stdout",
     "output_type": "stream",
     "text": [
      "Toyota\n",
      "The blue Toyota Corolla's engine is now running.\n"
     ]
    }
   ],
   "source": [
    "class Car:\n",
    "    def __init__(self, make, model, color):\n",
    "        self.make = make\n",
    "        self.model = model\n",
    "        self.color = color\n",
    "\n",
    "    def start_engine(self):\n",
    "        print(f\"The {self.color} {self.make} {self.model}'s engine is now running.\")\n",
    "\n",
    "# Creating an object of the Car class\n",
    "my_car = Car(\"Toyota\", \"Corolla\", \"blue\")\n",
    "\n",
    "# Accessing attributes and methods\n",
    "print(my_car.make)  # Output: Toyota\n",
    "my_car.start_engine()  # Output: The blue Toyota Corolla's engine is now running.\n"
   ]
  },
  {
   "cell_type": "raw",
   "id": "4989193b",
   "metadata": {},
   "source": [
    "In this example:\n",
    "\n",
    "Car is the class.\n",
    "make, model, and color are attributes.\n",
    "start_engine is a method.\n",
    "__init__ is the constructor method.\n",
    "Objects like my_car are instances of the Car class, created with specific values for the attributes."
   ]
  },
  {
   "cell_type": "markdown",
   "id": "340ed342",
   "metadata": {},
   "source": [
    "### What are attributes and methods in a class?"
   ]
  },
  {
   "cell_type": "raw",
   "id": "4e1a0691",
   "metadata": {},
   "source": [
    "Attributes and methods are fundamental concepts that define the data and behavior of objects created from that class.\n",
    "\n",
    "Attributes\n",
    "Attributes are variables that belong to a class and represent the state or properties of an object. They hold data about the object. Attributes can be thought of as the \"data\" part of the class."
   ]
  },
  {
   "cell_type": "raw",
   "id": "8d2436bd",
   "metadata": {},
   "source": [
    "Instance Attributes: These are specific to each instance (object) of the class. They are usually defined in the __init__ method (constructor) and are accessed using self. Each object can have different values for these attributes."
   ]
  },
  {
   "cell_type": "code",
   "execution_count": 184,
   "id": "43d665ca",
   "metadata": {},
   "outputs": [],
   "source": [
    "class Car:\n",
    "    def __init__(self, make, model, color):\n",
    "        self.make = make    # Instance attribute\n",
    "        self.model = model  # Instance attribute\n",
    "        self.color = color  # Instance attribute"
   ]
  },
  {
   "cell_type": "raw",
   "id": "5d5b701c",
   "metadata": {},
   "source": [
    "Class Attributes: These are shared across all instances of the class. They are defined directly within the class body and are accessed using the class name or via instances."
   ]
  },
  {
   "cell_type": "code",
   "execution_count": 185,
   "id": "9253f259",
   "metadata": {},
   "outputs": [],
   "source": [
    "class Car:\n",
    "    wheels = 4  # Class attribute\n",
    "\n",
    "    def __init__(self, make, model, color):\n",
    "        self.make = make\n",
    "        self.model = model\n",
    "        self.color = color\n"
   ]
  },
  {
   "cell_type": "raw",
   "id": "0a00e8fe",
   "metadata": {},
   "source": [
    "Methods\n",
    "Methods are functions defined within a class that operate on its attributes or perform actions. They represent the behavior or operations that the class can perform.\n",
    "\n",
    "Instance Methods: These are the most common type of methods and are defined with at least one parameter, self, which refers to the instance calling the method. They can access and modify the instance's attributes."
   ]
  },
  {
   "cell_type": "code",
   "execution_count": 186,
   "id": "e31fb4f5",
   "metadata": {},
   "outputs": [],
   "source": [
    "class Car:\n",
    "    def __init__(self, make, model, color):\n",
    "        self.make = make\n",
    "        self.model = model\n",
    "        self.color = color\n",
    "\n",
    "    def start_engine(self):\n",
    "        print(f\"The {self.color} {self.make} {self.model}'s engine is now running.\")\n"
   ]
  },
  {
   "cell_type": "raw",
   "id": "4607e2cb",
   "metadata": {},
   "source": [
    "Class Methods: These are methods that operate on the class itself rather than instances. They are defined with a @classmethod decorator and take cls as the first parameter, which refers to the class. Class methods can modify class state that applies across all instances."
   ]
  },
  {
   "cell_type": "code",
   "execution_count": 187,
   "id": "4c73d03b",
   "metadata": {},
   "outputs": [],
   "source": [
    "class Car:\n",
    "    wheels = 4\n",
    "\n",
    "    @classmethod\n",
    "    def number_of_wheels(cls):\n",
    "        return cls.wheels"
   ]
  },
  {
   "cell_type": "raw",
   "id": "6bf293e0",
   "metadata": {},
   "source": [
    "Static Methods: These methods don't operate on instance or class data. They are defined with a @staticmethod decorator and don’t take self or cls as parameters. They are used for utility functions that don’t need access to instance or class-specific data."
   ]
  },
  {
   "cell_type": "code",
   "execution_count": 188,
   "id": "8d5c2c12",
   "metadata": {},
   "outputs": [],
   "source": [
    "class Car:\n",
    "    @staticmethod\n",
    "    def is_motor_vehicle():\n",
    "        return True\n"
   ]
  },
  {
   "cell_type": "code",
   "execution_count": null,
   "id": "508da731",
   "metadata": {},
   "outputs": [],
   "source": [
    "Attributes are the data held by an object.\n",
    "Methods are the functions that define the behavior or operations that an object can perform."
   ]
  },
  {
   "cell_type": "markdown",
   "id": "449ca0e8",
   "metadata": {},
   "source": [
    "### 5. What is the difference between class variables and instance variables in Python"
   ]
  },
  {
   "cell_type": "raw",
   "id": "e01ed362",
   "metadata": {},
   "source": [
    "class variables and instance variables are two types of attributes that can be used within a class. They serve different purposes and have different scopes."
   ]
  },
  {
   "cell_type": "raw",
   "id": "f5df26ab",
   "metadata": {},
   "source": [
    "Instance Variables\n",
    "Definition: Instance variables are attributes that are specific to an instance (object) of a class. They are defined within the __init__ method or other instance methods using self.\n",
    "\n",
    "Scope: Each instance of the class has its own copy of the instance variables. Changes to these variables affect only the particular instance.\n",
    "\n",
    "Access: You access instance variables using the self keyword within methods or through the object instance."
   ]
  },
  {
   "cell_type": "code",
   "execution_count": 189,
   "id": "5cdc4856",
   "metadata": {},
   "outputs": [
    {
     "name": "stdout",
     "output_type": "stream",
     "text": [
      "Toyota\n",
      "Honda\n"
     ]
    }
   ],
   "source": [
    "class Car:\n",
    "    def __init__(self, make, model, color):\n",
    "        self.make = make    # Instance variable\n",
    "        self.model = model  # Instance variable\n",
    "        self.color = color  # Instance variable\n",
    "\n",
    "car1 = Car(\"Toyota\", \"Corolla\", \"blue\")\n",
    "car2 = Car(\"Honda\", \"Civic\", \"red\")\n",
    "\n",
    "print(car1.make)  # Output: Toyota\n",
    "print(car2.make)  # Output: Honda\n"
   ]
  },
  {
   "cell_type": "raw",
   "id": "15894169",
   "metadata": {},
   "source": [
    "Class Variables\n",
    "Definition: Class variables are attributes that are shared across all instances of a class. They are defined directly within the class body, outside of any methods.\n",
    "\n",
    "Scope: Class variables are common to all instances of the class. If you modify a class variable, the change is reflected across all instances unless overridden by instance variables.\n",
    "\n",
    "Access: You can access class variables using the class name or through an instance, though it's more common to access them via the class name."
   ]
  },
  {
   "cell_type": "code",
   "execution_count": 190,
   "id": "44dc7b63",
   "metadata": {},
   "outputs": [
    {
     "name": "stdout",
     "output_type": "stream",
     "text": [
      "4\n",
      "4\n",
      "4\n",
      "6\n",
      "6\n",
      "6\n"
     ]
    }
   ],
   "source": [
    "class Car:\n",
    "    wheels = 4  # Class variable\n",
    "\n",
    "    def __init__(self, make, model, color):\n",
    "        self.make = make\n",
    "        self.model = model\n",
    "        self.color = color\n",
    "\n",
    "car1 = Car(\"Toyota\", \"Corolla\", \"blue\")\n",
    "car2 = Car(\"Honda\", \"Civic\", \"red\")\n",
    "\n",
    "print(Car.wheels)  # Output: 4\n",
    "print(car1.wheels)  # Output: 4\n",
    "print(car2.wheels)  # Output: 4\n",
    "\n",
    "# Changing class variable\n",
    "Car.wheels = 6\n",
    "\n",
    "print(Car.wheels)  # Output: 6\n",
    "print(car1.wheels)  # Output: 6\n",
    "print(car2.wheels)  # Output: 6\n"
   ]
  },
  {
   "cell_type": "code",
   "execution_count": null,
   "id": "6a788c4a",
   "metadata": {},
   "outputs": [],
   "source": [
    "Summary of Differences\n",
    "Instance Variables:\n",
    "\n",
    "Specific to each instance.\n",
    "Defined using self within methods.\n",
    "Changes to instance variables affect only the specific instance.\n",
    "Class Variables:\n",
    "\n",
    "Shared among all instances of the class.\n",
    "Defined directly in the class body.\n",
    "Changes to class variables affect all instances unless overridden by instance variables."
   ]
  },
  {
   "cell_type": "markdown",
   "id": "7eafbdf6",
   "metadata": {},
   "source": [
    "### 6. What is the purpose of the self parameter in Python class methods?"
   ]
  },
  {
   "cell_type": "raw",
   "id": "7136e809",
   "metadata": {},
   "source": [
    "class methods, the self parameter is used to refer to the instance of the class from which the method is called. It serves several key purposes:\n",
    "\n",
    "Key Purposes of self\n",
    "Access Instance Variables and Methods: self allows you to access and modify the instance variables and call other methods defined in the class. It acts as a reference to the specific instance of the class, making it possible to interact with its data."
   ]
  },
  {
   "cell_type": "code",
   "execution_count": 191,
   "id": "74939ae7",
   "metadata": {},
   "outputs": [
    {
     "name": "stdout",
     "output_type": "stream",
     "text": [
      "Car make: Toyota, model: Corolla\n"
     ]
    }
   ],
   "source": [
    "class Car:\n",
    "    def __init__(self, make, model):\n",
    "        self.make = make\n",
    "        self.model = model\n",
    "\n",
    "    def display_info(self):\n",
    "        print(f\"Car make: {self.make}, model: {self.model}\")\n",
    "\n",
    "my_car = Car(\"Toyota\", \"Corolla\")\n",
    "my_car.display_info()  # Output: Car make: Toyota, model: Corolla"
   ]
  },
  {
   "cell_type": "code",
   "execution_count": null,
   "id": "84b214ee",
   "metadata": {},
   "outputs": [],
   "source": [
    "In the display_info method, self.make and self.model access the instance variables."
   ]
  },
  {
   "cell_type": "raw",
   "id": "c6889df7",
   "metadata": {},
   "source": [
    "Differentiate Between Instance and Class Data: self differentiates instance variables (which are unique to each instance) from class variables (which are shared across all instances). It ensures that methods operate on the instance's own data."
   ]
  },
  {
   "cell_type": "code",
   "execution_count": 192,
   "id": "67e85e49",
   "metadata": {},
   "outputs": [
    {
     "name": "stdout",
     "output_type": "stream",
     "text": [
      "Car make: Honda, model: Civic, wheels: 4\n"
     ]
    }
   ],
   "source": [
    "class Car:\n",
    "    wheels = 4  # Class variable\n",
    "\n",
    "    def __init__(self, make, model):\n",
    "        self.make = make\n",
    "        self.model = model\n",
    "\n",
    "    def display_info(self):\n",
    "        print(f\"Car make: {self.make}, model: {self.model}, wheels: {Car.wheels}\")\n",
    "\n",
    "my_car = Car(\"Honda\", \"Civic\")\n",
    "my_car.display_info()  # Output: Car make: Honda, model: Civic, wheels: 4\n"
   ]
  },
  {
   "cell_type": "raw",
   "id": "ad7a187d",
   "metadata": {},
   "source": [
    "Method Chaining: self allows for method chaining, where multiple methods can be called in a sequence on the same object."
   ]
  },
  {
   "cell_type": "code",
   "execution_count": 193,
   "id": "0ec72cc6",
   "metadata": {},
   "outputs": [
    {
     "name": "stdout",
     "output_type": "stream",
     "text": [
      "Car make: Honda, model: Civic\n"
     ]
    }
   ],
   "source": [
    "class Car:\n",
    "    def __init__(self, make, model):\n",
    "        self.make = make\n",
    "        self.model = model\n",
    "\n",
    "    def set_make(self, make):\n",
    "        self.make = make\n",
    "        return self  # Allows method chaining\n",
    "\n",
    "    def set_model(self, model):\n",
    "        self.model = model\n",
    "        return self  # Allows method chaining\n",
    "\n",
    "    def display_info(self):\n",
    "        print(f\"Car make: {self.make}, model: {self.model}\")\n",
    "\n",
    "my_car = Car(\"Toyota\", \"Corolla\")\n",
    "my_car.set_make(\"Honda\").set_model(\"Civic\").display_info()  # Output: Car make: Honda, model: Civic\n"
   ]
  },
  {
   "cell_type": "raw",
   "id": "0b14f27d",
   "metadata": {},
   "source": [
    "Distinguish Between Local and Instance Variables: In instance methods, self helps to clarify that a variable is an instance attribute and not a local variable. This prevents confusion and ensures that you’re working with the instance's data."
   ]
  },
  {
   "cell_type": "raw",
   "id": "f0456df1",
   "metadata": {},
   "source": [
    "self is a conventional name (though it can technically be named anything) that refers to the current instance of the class.\n",
    "It allows instance methods to access and modify the object's attributes and call other instance methods.\n",
    "It distinguishes instance attributes from local variables and enables method chaining."
   ]
  },
  {
   "cell_type": "raw",
   "id": "13a922b6",
   "metadata": {},
   "source": [
    "Overall, self is essential for object-oriented programming in Python, ensuring that methods operate on the correct instance data and maintain the integrity of object-oriented principles."
   ]
  },
  {
   "cell_type": "markdown",
   "id": "9927b7a8",
   "metadata": {},
   "source": [
    "### 7. For a library management system, you have to design the \"Book\" class with OOP"
   ]
  },
  {
   "cell_type": "code",
   "execution_count": null,
   "id": "9a56d609",
   "metadata": {},
   "outputs": [],
   "source": [
    "principles in mind. The “Book” class will have following attributes:\n",
    "a. title: Represents the title of the book.\n",
    "b. author: Represents the author(s) of the book.\n",
    "c. isbn: Represents the ISBN (International Standard Book Number) of the book.\n",
    "d. publication_year: Represents the year of publication of the book.\n",
    "e. available_copies: Represents the number of copies available for checkout."
   ]
  },
  {
   "cell_type": "raw",
   "id": "4c48c514",
   "metadata": {},
   "source": [
    "Here's a design for the Book class using Object-Oriented Programming (OOP) principles in Python:"
   ]
  },
  {
   "cell_type": "code",
   "execution_count": 194,
   "id": "597a89b4",
   "metadata": {},
   "outputs": [
    {
     "name": "stdout",
     "output_type": "stream",
     "text": [
      "Title: The Great Gatsby\n",
      "Author: F. Scott Fitzgerald\n",
      "ISBN: 9780743273565\n",
      "Publication Year: 1925\n",
      "Available Copies: 5\n",
      "Checked out one copy of 'The Great Gatsby'.\n",
      "Title: The Great Gatsby\n",
      "Author: F. Scott Fitzgerald\n",
      "ISBN: 9780743273565\n",
      "Publication Year: 1925\n",
      "Available Copies: 4\n",
      "Returned one copy of 'The Great Gatsby'.\n",
      "Title: The Great Gatsby\n",
      "Author: F. Scott Fitzgerald\n",
      "ISBN: 9780743273565\n",
      "Publication Year: 1925\n",
      "Available Copies: 5\n"
     ]
    }
   ],
   "source": [
    "class Book:\n",
    "    def __init__(self, title, author, isbn, publication_year, available_copies):\n",
    "        self.title = title\n",
    "        self.author = author\n",
    "        self.isbn = isbn\n",
    "        self.publication_year = publication_year\n",
    "        self.available_copies = available_copies\n",
    "\n",
    "    def check_out(self):\n",
    "        \"\"\"Decrement the available copies by one if there are copies available.\"\"\"\n",
    "        if self.available_copies > 0:\n",
    "            self.available_copies -= 1\n",
    "            print(f\"Checked out one copy of '{self.title}'.\")\n",
    "        else:\n",
    "            print(f\"No copies of '{self.title}' are available for checkout.\")\n",
    "\n",
    "    def return_book(self):\n",
    "        \"\"\"Increment the available copies by one when a book is returned.\"\"\"\n",
    "        self.available_copies += 1\n",
    "        print(f\"Returned one copy of '{self.title}'.\")\n",
    "\n",
    "    def display_book_info(self):\n",
    "        \"\"\"Display the information about the book, including its attributes and available copies.\"\"\"\n",
    "        info = (f\"Title: {self.title}\\n\"\n",
    "                f\"Author: {self.author}\\n\"\n",
    "                f\"ISBN: {self.isbn}\\n\"\n",
    "                f\"Publication Year: {self.publication_year}\\n\"\n",
    "                f\"Available Copies: {self.available_copies}\")\n",
    "        print(info)\n",
    "\n",
    "# Example usage:\n",
    "book1 = Book(\"The Great Gatsby\", \"F. Scott Fitzgerald\", \"9780743273565\", 1925, 5)\n",
    "book1.display_book_info()\n",
    "book1.check_out()\n",
    "book1.display_book_info()\n",
    "book1.return_book()\n",
    "book1.display_book_info()\n"
   ]
  },
  {
   "cell_type": "code",
   "execution_count": null,
   "id": "9bf8c1ba",
   "metadata": {},
   "outputs": [],
   "source": [
    "Attributes:\n",
    "\n",
    "title: A string representing the book's title.\n",
    "author: A string or list of strings representing the author(s) of the book.\n",
    "isbn: A string representing the ISBN of the book.\n",
    "publication_year: An integer representing the year the book was published.\n",
    "available_copies: An integer representing the number of copies available for checkout."
   ]
  },
  {
   "cell_type": "code",
   "execution_count": null,
   "id": "32af904b",
   "metadata": {},
   "outputs": [],
   "source": [
    "Methods:\n",
    "\n",
    "__init__: Constructor method to initialize the book's attributes.\n",
    "checkout: Decreases the number of available copies by one if copies are available and prints a \n",
    "confirmation message.\n",
    "return_book: Increases the number of available copies by one and prints a confirmation message.\n",
    "__str__: Provides a string representation of the book's information for easy printing.\n",
    "is_available: Returns True if the book has available copies, otherwise False."
   ]
  },
  {
   "cell_type": "raw",
   "id": "cbd4ccc6",
   "metadata": {},
   "source": [
    "Explanation:\n",
    "Constructor (__init__): Initializes the book's attributes.\n",
    "check_out Method: Decreases the number of available copies if there are copies available; otherwise, it prints a message indicating no copies are available.\n",
    "return_book Method: Increases the number of available copies when a book is returned.\n",
    "display_book_info Method: Prints all the details of the book, including the number of available copies."
   ]
  },
  {
   "cell_type": "raw",
   "id": "08f680eb",
   "metadata": {},
   "source": [
    "This class encapsulates the attributes and behaviors of a book in a library system, adhering to OOP principles such as encapsulation and abstraction."
   ]
  },
  {
   "cell_type": "markdown",
   "id": "7f818fcf",
   "metadata": {},
   "source": [
    "#### 8. For a ticket booking system, you have to design the \"Ticket\" class with OOP principles in mind. The “Ticket” class should have the following attributes:"
   ]
  },
  {
   "cell_type": "code",
   "execution_count": null,
   "id": "f0ad2aac",
   "metadata": {},
   "outputs": [],
   "source": [
    "a. ticket_id: Represents the unique identifier for the ticket.\n",
    "b. event_name: Represents the name of the event.\n",
    "c. event_date: Represents the date of the event.\n",
    "d. venue: Represents the venue of the event.\n",
    "e. seat_number: Represents the seat number associated with the ticket.\n",
    "f. price: Represents the price of the ticket.\n",
    "g. is_reserved: Represents the reservation status of the ticket.\n",
    "The class also includes the following methods:\n",
    "a. reserve_ticket(self): Marks the ticket as reserved if it is not already reserved.\n",
    "b. cancel_reservation(self): Cancels the reservation of the ticket if it is already\n",
    "reserved.\n",
    "c. display_ticket_info(self): Displays the information about the ticket, including its\n",
    "attributes and reservation status.\n"
   ]
  },
  {
   "cell_type": "raw",
   "id": "352ffafd",
   "metadata": {},
   "source": [
    "Here's a design for the Ticket class based on the given requirements, implementing object-oriented programming (OOP) principles:"
   ]
  },
  {
   "cell_type": "code",
   "execution_count": 195,
   "id": "3288ebcc",
   "metadata": {},
   "outputs": [
    {
     "name": "stdout",
     "output_type": "stream",
     "text": [
      "Ticket ID: T123\n",
      "Event Name: Concert\n",
      "Event Date: 2024-09-15\n",
      "Venue: Madison Square Garden\n",
      "Seat Number: A12\n",
      "Price: $150.00\n",
      "Status: Available\n",
      "Ticket T123 for 'Concert' has been reserved.\n",
      "Ticket ID: T123\n",
      "Event Name: Concert\n",
      "Event Date: 2024-09-15\n",
      "Venue: Madison Square Garden\n",
      "Seat Number: A12\n",
      "Price: $150.00\n",
      "Status: Reserved\n",
      "Ticket T123 is already reserved.\n",
      "Reservation for ticket T123 has been canceled.\n",
      "Ticket ID: T123\n",
      "Event Name: Concert\n",
      "Event Date: 2024-09-15\n",
      "Venue: Madison Square Garden\n",
      "Seat Number: A12\n",
      "Price: $150.00\n",
      "Status: Available\n",
      "Ticket T123 is not reserved, so it cannot be canceled.\n"
     ]
    }
   ],
   "source": [
    "class Ticket:\n",
    "    def __init__(self, ticket_id, event_name, event_date, venue, seat_number, price):\n",
    "        self.ticket_id = ticket_id\n",
    "        self.event_name = event_name\n",
    "        self.event_date = event_date\n",
    "        self.venue = venue\n",
    "        self.seat_number = seat_number\n",
    "        self.price = price\n",
    "        self.is_reserved = False  # Ticket is initially not reserved\n",
    "\n",
    "    def reserve_ticket(self):\n",
    "        \"\"\"Marks the ticket as reserved if it is not already reserved.\"\"\"\n",
    "        if not self.is_reserved:\n",
    "            self.is_reserved = True\n",
    "            print(f\"Ticket {self.ticket_id} for '{self.event_name}' has been reserved.\")\n",
    "        else:\n",
    "            print(f\"Ticket {self.ticket_id} is already reserved.\")\n",
    "\n",
    "    def cancel_reservation(self):\n",
    "        \"\"\"Cancels the reservation of the ticket if it is already reserved.\"\"\"\n",
    "        if self.is_reserved:\n",
    "            self.is_reserved = False\n",
    "            print(f\"Reservation for ticket {self.ticket_id} has been canceled.\")\n",
    "        else:\n",
    "            print(f\"Ticket {self.ticket_id} is not reserved, so it cannot be canceled.\")\n",
    "\n",
    "    def display_ticket_info(self):\n",
    "        \"\"\"Displays the information about the ticket.\"\"\"\n",
    "        status = \"Reserved\" if self.is_reserved else \"Available\"\n",
    "        print(f\"Ticket ID: {self.ticket_id}\")\n",
    "        print(f\"Event Name: {self.event_name}\")\n",
    "        print(f\"Event Date: {self.event_date}\")\n",
    "        print(f\"Venue: {self.venue}\")\n",
    "        print(f\"Seat Number: {self.seat_number}\")\n",
    "        print(f\"Price: ${self.price:.2f}\")\n",
    "        print(f\"Status: {status}\")\n",
    "\n",
    "# Example usage\n",
    "if __name__ == \"__main__\":\n",
    "    ticket1 = Ticket(\"T123\", \"Concert\", \"2024-09-15\", \"Madison Square Garden\", \"A12\", 150.00)\n",
    "    \n",
    "    # Display ticket information\n",
    "    ticket1.display_ticket_info()\n",
    "    \n",
    "    # Reserve the ticket\n",
    "    ticket1.reserve_ticket()\n",
    "    \n",
    "    # Display ticket information after reservation\n",
    "    ticket1.display_ticket_info()\n",
    "    \n",
    "    # Attempt to reserve the ticket again\n",
    "    ticket1.reserve_ticket()\n",
    "    \n",
    "    # Cancel the reservation\n",
    "    ticket1.cancel_reservation()\n",
    "    \n",
    "    # Display ticket information after cancellation\n",
    "    ticket1.display_ticket_info()\n",
    "    \n",
    "    # Attempt to cancel the reservation again\n",
    "    ticket1.cancel_reservation()\n"
   ]
  },
  {
   "cell_type": "raw",
   "id": "4d5037c9",
   "metadata": {},
   "source": [
    "__init__ Method: Initializes a new Ticket instance with the given attributes (ticket_id, event_name, event_date, venue, seat_number, price). The is_reserved attribute is initially set to False to indicate that the ticket is not reserved."
   ]
  },
  {
   "cell_type": "raw",
   "id": "c4080fd4",
   "metadata": {},
   "source": [
    "reserve_ticket Method: Checks if the ticket is already reserved. If not, it marks the ticket as reserved and prints a confirmation message. If the ticket is already reserved, it prints a message indicating that the reservation cannot be made."
   ]
  },
  {
   "cell_type": "raw",
   "id": "96344c8d",
   "metadata": {},
   "source": [
    "cancel_reservation Method: Checks if the ticket is reserved. If it is, it cancels the reservation and prints a confirmation message. If the ticket is not reserved, it prints a message indicating that there is no reservation to cancel."
   ]
  },
  {
   "cell_type": "code",
   "execution_count": null,
   "id": "45de4b7a",
   "metadata": {},
   "outputs": [],
   "source": [
    "display_ticket_info Method: Displays the ticket’s attributes along with its reservation status."
   ]
  },
  {
   "cell_type": "raw",
   "id": "7801a1f4",
   "metadata": {},
   "source": [
    "This class effectively models a ticket in a booking system and provides methods to manage the reservation state and display ticket details."
   ]
  },
  {
   "cell_type": "markdown",
   "id": "572c89e6",
   "metadata": {},
   "source": [
    "#### You are creating a shopping cart for an e-commerce website. Using OOP to model the \"ShoppingCart\" functionality the class should contain following attributes and methods:"
   ]
  },
  {
   "cell_type": "code",
   "execution_count": 196,
   "id": "afdbed9a",
   "metadata": {},
   "outputs": [
    {
     "ename": "SyntaxError",
     "evalue": "invalid syntax (294647136.py, line 1)",
     "output_type": "error",
     "traceback": [
      "\u001b[1;36m  Cell \u001b[1;32mIn[196], line 1\u001b[1;36m\u001b[0m\n\u001b[1;33m    a. items: Represents the list of items in the shopping cart.\u001b[0m\n\u001b[1;37m                         ^\u001b[0m\n\u001b[1;31mSyntaxError\u001b[0m\u001b[1;31m:\u001b[0m invalid syntax\n"
     ]
    }
   ],
   "source": [
    "a. items: Represents the list of items in the shopping cart.\n",
    "The class also includes the following methods:\n",
    "a. add_item(self, item): Adds an item to the shopping cart by appending it to the\n",
    "list of items.\n",
    "b. remove_item(self, item): Removes an item from the shopping cart if it exists in\n",
    "the list.\n",
    "c. view_cart(self): Displays the items currently present in the shopping cart.\n",
    "d. clear_cart(self): Clears all items from the shopping cart by reassigning an\n",
    "empty list to the items attribute."
   ]
  },
  {
   "cell_type": "raw",
   "id": "f957c090",
   "metadata": {},
   "source": [
    "a design for the ShoppingCart class to model the functionality of a shopping cart in an e-commerce website using object-oriented programming (OOP) principles:"
   ]
  },
  {
   "cell_type": "code",
   "execution_count": 197,
   "id": "90a63872",
   "metadata": {},
   "outputs": [
    {
     "name": "stdout",
     "output_type": "stream",
     "text": [
      "Item 'Laptop' added to the cart.\n",
      "Item 'Smartphone' added to the cart.\n",
      "Items in your cart:\n",
      "- Laptop\n",
      "- Smartphone\n",
      "Item 'Smartphone' removed from the cart.\n",
      "Items in your cart:\n",
      "- Laptop\n",
      "Your cart has been cleared.\n",
      "Your cart is empty.\n"
     ]
    }
   ],
   "source": [
    "class ShoppingCart:\n",
    "    def __init__(self):\n",
    "        \"\"\"Initializes an empty shopping cart.\"\"\"\n",
    "        self.items = []  # List to store items in the shopping cart\n",
    "\n",
    "    def add_item(self, item):\n",
    "        \"\"\"Adds an item to the shopping cart.\"\"\"\n",
    "        self.items.append(item)\n",
    "        print(f\"Item '{item}' added to the cart.\")\n",
    "\n",
    "    def remove_item(self, item):\n",
    "        \"\"\"Removes an item from the shopping cart if it exists.\"\"\"\n",
    "        if item in self.items:\n",
    "            self.items.remove(item)\n",
    "            print(f\"Item '{item}' removed from the cart.\")\n",
    "        else:\n",
    "            print(f\"Item '{item}' not found in the cart.\")\n",
    "\n",
    "    def view_cart(self):\n",
    "        \"\"\"Displays the items currently present in the shopping cart.\"\"\"\n",
    "        if self.items:\n",
    "            print(\"Items in your cart:\")\n",
    "            for item in self.items:\n",
    "                print(f\"- {item}\")\n",
    "        else:\n",
    "            print(\"Your cart is empty.\")\n",
    "\n",
    "    def clear_cart(self):\n",
    "        \"\"\"Clears all items from the shopping cart.\"\"\"\n",
    "        self.items = []\n",
    "        print(\"Your cart has been cleared.\")\n",
    "\n",
    "# Example usage\n",
    "if __name__ == \"__main__\":\n",
    "    cart = ShoppingCart()\n",
    "    \n",
    "    # Adding items to the cart\n",
    "    cart.add_item(\"Laptop\")\n",
    "    cart.add_item(\"Smartphone\")\n",
    "    \n",
    "    # Viewing cart items\n",
    "    cart.view_cart()\n",
    "    \n",
    "    # Removing an item from the cart\n",
    "    cart.remove_item(\"Smartphone\")\n",
    "    \n",
    "    # Viewing cart items after removal\n",
    "    cart.view_cart()\n",
    "    \n",
    "    # Clearing the cart\n",
    "    cart.clear_cart()\n",
    "    \n",
    "    # Viewing cart items after clearing\n",
    "    cart.view_cart()\n"
   ]
  },
  {
   "cell_type": "raw",
   "id": "01124999",
   "metadata": {},
   "source": [
    "__init__ Method: Initializes a new ShoppingCart instance with an empty list of items."
   ]
  },
  {
   "cell_type": "raw",
   "id": "d2f27032",
   "metadata": {},
   "source": [
    "add_item Method: Adds a specified item to the shopping cart. It appends the item to the items list and prints a confirmation message."
   ]
  },
  {
   "cell_type": "markdown",
   "id": "23bed1f8",
   "metadata": {},
   "source": [
    "remove_item Method: Removes a specified item from the shopping cart if it exists. If the item is found, it is removed from the items list and a confirmation message is printed. If the item is not found, it prints a message indicating the item was not in the cart."
   ]
  },
  {
   "cell_type": "raw",
   "id": "b3efd90a",
   "metadata": {},
   "source": [
    "view_cart Method: Displays the items currently in the shopping cart. If the cart is empty, it prints a message indicating that the cart is empty."
   ]
  },
  {
   "cell_type": "raw",
   "id": "513f2e3c",
   "metadata": {},
   "source": [
    "clear_cart Method: Clears all items from the shopping cart by reassigning an empty list to the items attribute and prints a message confirming the cart has been cleared."
   ]
  },
  {
   "cell_type": "raw",
   "id": "cdb8dd0b",
   "metadata": {},
   "source": [
    "This class provides basic functionality for managing a shopping cart, including adding, removing, viewing, and clearing items."
   ]
  },
  {
   "cell_type": "markdown",
   "id": "efe63f59",
   "metadata": {},
   "source": [
    "### 10. Imagine a school management system. You have to design the \"Student\" class using OOP concepts.The “Student” class has the following attributes:"
   ]
  },
  {
   "cell_type": "code",
   "execution_count": null,
   "id": "591f774f",
   "metadata": {},
   "outputs": [],
   "source": [
    "a. name: Represents the name of the student.\n",
    "b. age: Represents the age of the student.\n",
    "c. grade: Represents the grade or class of the student.\n",
    "d. student_id: Represents the unique identifier for the student.\n",
    "e. attendance: Represents the attendance record of the student.\n",
    "The class should also include the following methods:\n",
    "a. update_attendance(self, date, status): Updates the attendance record of the\n",
    "student for a given date with the provided status (e.g., present or absent).\n",
    "b. get_attendance(self): Returns the attendance record of the student.\n",
    "c. get_average_attendance(self): Calculates and returns the average\n",
    "attendance percentage of the student based on their attendance record."
   ]
  },
  {
   "cell_type": "raw",
   "id": "20b2ba6a",
   "metadata": {},
   "source": [
    "A design for the Student class, incorporating the specified attributes and methods using object-oriented programming (OOP) principles:"
   ]
  },
  {
   "cell_type": "code",
   "execution_count": 198,
   "id": "bd4341ee",
   "metadata": {},
   "outputs": [
    {
     "name": "stdout",
     "output_type": "stream",
     "text": [
      "Attendance for Alice Smith on 2024-08-01 updated to 'Present'.\n",
      "Attendance for Alice Smith on 2024-08-02 updated to 'Absent'.\n",
      "Attendance for Alice Smith on 2024-08-03 updated to 'Present'.\n",
      "Attendance Record: {'2024-08-01': 'Present', '2024-08-02': 'Absent', '2024-08-03': 'Present'}\n",
      "Average Attendance: 66.67%\n"
     ]
    }
   ],
   "source": [
    "class Student:\n",
    "    def __init__(self, name, age, grade, student_id):\n",
    "        \"\"\"Initializes a new Student instance with the given attributes.\"\"\"\n",
    "        self.name = name\n",
    "        self.age = age\n",
    "        self.grade = grade\n",
    "        self.student_id = student_id\n",
    "        self.attendance = {}  # Dictionary to store attendance record with date as key and status as value\n",
    "\n",
    "    def update_attendance(self, date, status):\n",
    "        \"\"\"Updates the attendance record of the student for a given date with the provided status.\"\"\"\n",
    "        self.attendance[date] = status\n",
    "        print(f\"Attendance for {self.name} on {date} updated to '{status}'.\")\n",
    "\n",
    "    def get_attendance(self):\n",
    "        \"\"\"Returns the attendance record of the student.\"\"\"\n",
    "        return self.attendance\n",
    "\n",
    "    def get_average_attendance(self):\n",
    "        \"\"\"Calculates and returns the average attendance percentage of the student.\"\"\"\n",
    "        if not self.attendance:\n",
    "            return 0.0  # No attendance records, return 0%\n",
    "\n",
    "        total_days = len(self.attendance)\n",
    "        present_days = sum(1 for status in self.attendance.values() if status.lower() == 'present')\n",
    "\n",
    "        average_attendance = (present_days / total_days) * 100\n",
    "        return average_attendance\n",
    "\n",
    "# Example usage\n",
    "if __name__ == \"__main__\":\n",
    "    student1 = Student(\"Alice Smith\", 15, \"10th Grade\", \"S12345\")\n",
    "    \n",
    "    # Update attendance\n",
    "    student1.update_attendance(\"2024-08-01\", \"Present\")\n",
    "    student1.update_attendance(\"2024-08-02\", \"Absent\")\n",
    "    student1.update_attendance(\"2024-08-03\", \"Present\")\n",
    "    \n",
    "    # Get attendance record\n",
    "    print(\"Attendance Record:\", student1.get_attendance())\n",
    "    \n",
    "    # Get average attendance\n",
    "    avg_attendance = student1.get_average_attendance()\n",
    "    print(f\"Average Attendance: {avg_attendance:.2f}%\")\n"
   ]
  },
  {
   "cell_type": "raw",
   "id": "cf272c55",
   "metadata": {},
   "source": [
    "__init__ Method: Initializes a new Student instance with the given attributes (name, age, grade, student_id) and an empty dictionary attendance to store attendance records."
   ]
  },
  {
   "cell_type": "raw",
   "id": "3f61dd17",
   "metadata": {},
   "source": [
    "update_attendance Method: Updates the attendance record for a specific date with the provided status (present or absent). The attendance dictionary uses dates as keys and status as values."
   ]
  },
  {
   "cell_type": "code",
   "execution_count": null,
   "id": "19e7075d",
   "metadata": {},
   "outputs": [],
   "source": [
    "get_attendance Method: Returns the current attendance record stored in the attendance dictionary."
   ]
  },
  {
   "cell_type": "raw",
   "id": "a8b59c80",
   "metadata": {},
   "source": [
    "# get_average_attendance Method: Calculates the average attendance percentage. It counts the number of \"present\" entries, calculates the percentage of days attended, and returns it. If there are no attendance records, it returns 0.0."
   ]
  },
  {
   "cell_type": "raw",
   "id": "b0a03c75",
   "metadata": {},
   "source": [
    "This class provides a clear structure for managing student information and attendance, allowing for updates, retrievals, and calculations related to attendance."
   ]
  },
  {
   "cell_type": "code",
   "execution_count": null,
   "id": "01baf462",
   "metadata": {},
   "outputs": [],
   "source": []
  },
  {
   "cell_type": "code",
   "execution_count": null,
   "id": "9f2f31df",
   "metadata": {},
   "outputs": [],
   "source": []
  }
 ],
 "metadata": {
  "kernelspec": {
   "display_name": "Python 3 (ipykernel)",
   "language": "python",
   "name": "python3"
  },
  "language_info": {
   "codemirror_mode": {
    "name": "ipython",
    "version": 3
   },
   "file_extension": ".py",
   "mimetype": "text/x-python",
   "name": "python",
   "nbconvert_exporter": "python",
   "pygments_lexer": "ipython3",
   "version": "3.11.3"
  }
 },
 "nbformat": 4,
 "nbformat_minor": 5
}
